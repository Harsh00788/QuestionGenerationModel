{
 "cells": [
  {
   "cell_type": "code",
   "execution_count": 1,
   "id": "f7acebb7-a009-4bda-9195-cb4a09394ff2",
   "metadata": {},
   "outputs": [
    {
     "name": "stdin",
     "output_type": "stream",
     "text": [
      "Enter the path to the PDF file:  TraditionalFoodsofindia.pdf\n"
     ]
    },
    {
     "name": "stdout",
     "output_type": "stream",
     "text": [
      "Enter question types separated by commas (e.g., PERSON, LOC, EVENT):\n"
     ]
    },
    {
     "name": "stdin",
     "output_type": "stream",
     "text": [
      " EVENT\n"
     ]
    },
    {
     "name": "stdout",
     "output_type": "stream",
     "text": [
      "No Events found in the document. Moving on...\n",
      "No questions generated. Try different question types.\n"
     ]
    },
    {
     "name": "stdin",
     "output_type": "stream",
     "text": [
      "\n",
      "Do you want to generate more questions (type 'yes' to continue or 'exit' to quit):  PERSON\n"
     ]
    },
    {
     "name": "stdout",
     "output_type": "stream",
     "text": [
      "Enter question types separated by commas (e.g., PERSON, LOC, EVENT):\n"
     ]
    },
    {
     "name": "stdin",
     "output_type": "stream",
     "text": [
      " PERSON\n"
     ]
    },
    {
     "name": "stdout",
     "output_type": "stream",
     "text": [
      "Can you tell me more about Jain's role?\n",
      "Can you tell me more about T. Krishnakumar's role?\n",
      "Can you tell me more about https's role?\n",
      "Who is T. Krishnakumar?\n",
      "Who is https?\n",
      "Who is Jain?\n"
     ]
    },
    {
     "name": "stdin",
     "output_type": "stream",
     "text": [
      "\n",
      "Do you want to generate more questions (type 'yes' to continue or 'exit' to quit):  yes\n"
     ]
    },
    {
     "name": "stdout",
     "output_type": "stream",
     "text": [
      "Enter question types separated by commas (e.g., PERSON, LOC, EVENT):\n"
     ]
    },
    {
     "name": "stdin",
     "output_type": "stream",
     "text": [
      " ORG\n"
     ]
    },
    {
     "name": "stdout",
     "output_type": "stream",
     "text": [
      "What is The Future of Traditional Foods?\n",
      "What is Traditional Foods?\n",
      "What is Central Tuber Crops Research Institute?\n",
      "What does Central Tuber Crops Research Institute do?\n",
      "What does The Future of Traditional Foods do?\n",
      "What is Kerala 104 PUBLICATIONS?\n",
      "What does Different Regions of India do?\n",
      "What is Different Regions of India?\n",
      "What does Traditional Foods do?\n",
      "What does Kerala 104 PUBLICATIONS do?\n"
     ]
    },
    {
     "ename": "KeyboardInterrupt",
     "evalue": "Interrupted by user",
     "output_type": "error",
     "traceback": [
      "\u001b[1;31m---------------------------------------------------------------------------\u001b[0m",
      "\u001b[1;31mKeyboardInterrupt\u001b[0m                         Traceback (most recent call last)",
      "Cell \u001b[1;32mIn[1], line 166\u001b[0m\n\u001b[0;32m    163\u001b[0m     \u001b[38;5;28mprint\u001b[39m(\u001b[38;5;124m\"\u001b[39m\u001b[38;5;124mNo entities found in the document.\u001b[39m\u001b[38;5;124m\"\u001b[39m)\n\u001b[0;32m    165\u001b[0m \u001b[38;5;66;03m# Option for the user to continue or exit\u001b[39;00m\n\u001b[1;32m--> 166\u001b[0m user_input \u001b[38;5;241m=\u001b[39m \u001b[38;5;28;43minput\u001b[39;49m\u001b[43m(\u001b[49m\u001b[38;5;124;43m\"\u001b[39;49m\u001b[38;5;130;43;01m\\n\u001b[39;49;00m\u001b[38;5;124;43mDo you want to generate more questions (type \u001b[39;49m\u001b[38;5;124;43m'\u001b[39;49m\u001b[38;5;124;43myes\u001b[39;49m\u001b[38;5;124;43m'\u001b[39;49m\u001b[38;5;124;43m to continue or \u001b[39;49m\u001b[38;5;124;43m'\u001b[39;49m\u001b[38;5;124;43mexit\u001b[39;49m\u001b[38;5;124;43m'\u001b[39;49m\u001b[38;5;124;43m to quit): \u001b[39;49m\u001b[38;5;124;43m\"\u001b[39;49m\u001b[43m)\u001b[49m\u001b[38;5;241m.\u001b[39mstrip()\u001b[38;5;241m.\u001b[39mlower()\n\u001b[0;32m    167\u001b[0m \u001b[38;5;28;01mif\u001b[39;00m user_input \u001b[38;5;241m==\u001b[39m \u001b[38;5;124m'\u001b[39m\u001b[38;5;124mexit\u001b[39m\u001b[38;5;124m'\u001b[39m:\n\u001b[0;32m    168\u001b[0m     \u001b[38;5;28mprint\u001b[39m(\u001b[38;5;124m\"\u001b[39m\u001b[38;5;124mExiting...\u001b[39m\u001b[38;5;124m\"\u001b[39m)\n",
      "File \u001b[1;32m~\\AppData\\Local\\Programs\\Python\\Python311\\Lib\\site-packages\\ipykernel\\kernelbase.py:1202\u001b[0m, in \u001b[0;36mKernel.raw_input\u001b[1;34m(self, prompt)\u001b[0m\n\u001b[0;32m   1200\u001b[0m     msg \u001b[38;5;241m=\u001b[39m \u001b[38;5;124m\"\u001b[39m\u001b[38;5;124mraw_input was called, but this frontend does not support input requests.\u001b[39m\u001b[38;5;124m\"\u001b[39m\n\u001b[0;32m   1201\u001b[0m     \u001b[38;5;28;01mraise\u001b[39;00m StdinNotImplementedError(msg)\n\u001b[1;32m-> 1202\u001b[0m \u001b[38;5;28;01mreturn\u001b[39;00m \u001b[38;5;28;43mself\u001b[39;49m\u001b[38;5;241;43m.\u001b[39;49m\u001b[43m_input_request\u001b[49m\u001b[43m(\u001b[49m\n\u001b[0;32m   1203\u001b[0m \u001b[43m    \u001b[49m\u001b[38;5;28;43mstr\u001b[39;49m\u001b[43m(\u001b[49m\u001b[43mprompt\u001b[49m\u001b[43m)\u001b[49m\u001b[43m,\u001b[49m\n\u001b[0;32m   1204\u001b[0m \u001b[43m    \u001b[49m\u001b[38;5;28;43mself\u001b[39;49m\u001b[38;5;241;43m.\u001b[39;49m\u001b[43m_parent_ident\u001b[49m\u001b[43m[\u001b[49m\u001b[38;5;124;43m\"\u001b[39;49m\u001b[38;5;124;43mshell\u001b[39;49m\u001b[38;5;124;43m\"\u001b[39;49m\u001b[43m]\u001b[49m\u001b[43m,\u001b[49m\n\u001b[0;32m   1205\u001b[0m \u001b[43m    \u001b[49m\u001b[38;5;28;43mself\u001b[39;49m\u001b[38;5;241;43m.\u001b[39;49m\u001b[43mget_parent\u001b[49m\u001b[43m(\u001b[49m\u001b[38;5;124;43m\"\u001b[39;49m\u001b[38;5;124;43mshell\u001b[39;49m\u001b[38;5;124;43m\"\u001b[39;49m\u001b[43m)\u001b[49m\u001b[43m,\u001b[49m\n\u001b[0;32m   1206\u001b[0m \u001b[43m    \u001b[49m\u001b[43mpassword\u001b[49m\u001b[38;5;241;43m=\u001b[39;49m\u001b[38;5;28;43;01mFalse\u001b[39;49;00m\u001b[43m,\u001b[49m\n\u001b[0;32m   1207\u001b[0m \u001b[43m\u001b[49m\u001b[43m)\u001b[49m\n",
      "File \u001b[1;32m~\\AppData\\Local\\Programs\\Python\\Python311\\Lib\\site-packages\\ipykernel\\kernelbase.py:1245\u001b[0m, in \u001b[0;36mKernel._input_request\u001b[1;34m(self, prompt, ident, parent, password)\u001b[0m\n\u001b[0;32m   1242\u001b[0m \u001b[38;5;28;01mexcept\u001b[39;00m \u001b[38;5;167;01mKeyboardInterrupt\u001b[39;00m:\n\u001b[0;32m   1243\u001b[0m     \u001b[38;5;66;03m# re-raise KeyboardInterrupt, to truncate traceback\u001b[39;00m\n\u001b[0;32m   1244\u001b[0m     msg \u001b[38;5;241m=\u001b[39m \u001b[38;5;124m\"\u001b[39m\u001b[38;5;124mInterrupted by user\u001b[39m\u001b[38;5;124m\"\u001b[39m\n\u001b[1;32m-> 1245\u001b[0m     \u001b[38;5;28;01mraise\u001b[39;00m \u001b[38;5;167;01mKeyboardInterrupt\u001b[39;00m(msg) \u001b[38;5;28;01mfrom\u001b[39;00m \u001b[38;5;28;01mNone\u001b[39;00m\n\u001b[0;32m   1246\u001b[0m \u001b[38;5;28;01mexcept\u001b[39;00m \u001b[38;5;167;01mException\u001b[39;00m:\n\u001b[0;32m   1247\u001b[0m     \u001b[38;5;28mself\u001b[39m\u001b[38;5;241m.\u001b[39mlog\u001b[38;5;241m.\u001b[39mwarning(\u001b[38;5;124m\"\u001b[39m\u001b[38;5;124mInvalid Message:\u001b[39m\u001b[38;5;124m\"\u001b[39m, exc_info\u001b[38;5;241m=\u001b[39m\u001b[38;5;28;01mTrue\u001b[39;00m)\n",
      "\u001b[1;31mKeyboardInterrupt\u001b[0m: Interrupted by user"
     ]
    }
   ],
   "source": [
    "import fitz  # PyMuPDF\n",
    "import spacy\n",
    "from dateutil.parser import parse\n",
    "import os\n",
    "import re\n",
    "\n",
    "# Entity Types Dictionary (modify and expand as needed)\n",
    "entity_types = {\n",
    "    \"PERSON\": \"People\",\n",
    "    \"GPE\": \"Geographic Locations\",\n",
    "    \"ORG\": \"Organizations\",\n",
    "    \"LOC\": \"Locations\",\n",
    "    \"EVENT\": \"Events\",\n",
    "    \"WORK_OF_ART\": \"Works of Art\",\n",
    "    \"QUANTITY\": \"Quantities\",\n",
    "    \"ORDINAL\": \"Ordinal Numbers\",\n",
    "    \"CARDINAL\": \"Cardinal Numbers\",\n",
    "    \"PERCENT\": \"Percentages\",\n",
    "    \"MONEY\": \"Monetary Values\",\n",
    "    \"FAC\": \"Facilities\",\n",
    "    \"LAW\": \"Legal References\",\n",
    "    \"PRODUCT\": \"Products\",\n",
    "    \"NORP\": \"Nationalities or Religious or Political Groups\",\n",
    "    \"FACILITY\": \"Facilities\",\n",
    "    \"LANGUAGE\": \"Languages\",\n",
    "    \"TIME\": \"Times\",\n",
    "    \"TITLE\": \"Titles (e.g., of books, songs, movies)\",\n",
    "}\n",
    "\n",
    "# Extract Text from PDF with Error Handling\n",
    "def extract_text_from_pdf(pdf_path):\n",
    "    try:\n",
    "        document = fitz.open(pdf_path)\n",
    "        text = \"\"\n",
    "        for page_num in range(len(document)):\n",
    "            page = document.load_page(page_num)\n",
    "            text += page.get_text()\n",
    "        return text\n",
    "    except Exception as e:\n",
    "        print(f\"Error reading PDF: {e}\")\n",
    "        return \"\"\n",
    "\n",
    "# Clean extracted text\n",
    "def clean_text(text):\n",
    "    text = re.sub(r'\\s+', ' ', text)  # Replace multiple whitespace with single space\n",
    "    text = re.sub(r'[^\\x00-\\x7F]+', ' ', text)  # Remove non-ASCII characters\n",
    "    text = re.sub(r'[^\\w\\s,.?!]', ' ', text)  # Remove non-printable characters\n",
    "    return text.strip()\n",
    "\n",
    "# Perform Named Entity Recognition (NER) with Error Handling\n",
    "def perform_ner(text):\n",
    "    try:\n",
    "        nlp = spacy.load(\"en_core_web_sm\")\n",
    "        doc = nlp(text)\n",
    "        entities = [(ent.text.strip(), ent.label_) for ent in doc.ents]\n",
    "        return entities\n",
    "    except Exception as e:\n",
    "        print(f\"Error performing NER: {e}\")\n",
    "        return []\n",
    "\n",
    "# Check if the date entity is a valid date for generating questions\n",
    "def is_valid_date_entity(entity_text):\n",
    "    # Skip single years and specific dates that don't make sense for question generation\n",
    "    if entity_text.isdigit() or entity_text.count(' ') < 2:\n",
    "        return False\n",
    "    try:\n",
    "        parse(entity_text, fuzzy=True)  # Use dateutil to validate date format\n",
    "        return True\n",
    "    except:\n",
    "        return False\n",
    "\n",
    "# Generate Logical Questions for Kids (with user input)\n",
    "def generate_questions(entities):\n",
    "    questions = set()\n",
    "    # Track question count per entity type\n",
    "    count = {key: 0 for key in entity_types.keys()}\n",
    "    found_entity_types = set(entity[1] for entity in entities)  # Track found entity types\n",
    "\n",
    "    # Get user input for desired question types\n",
    "    print(\"Enter question types separated by commas (e.g., PERSON, LOC, EVENT):\")\n",
    "    desired_types = input().upper().split(\",\")\n",
    "\n",
    "    for entity in entities:\n",
    "        entity_text = entity[0]\n",
    "        entity_label = entity[1]\n",
    "\n",
    "        if entity_label == \"DATE\" and not is_valid_date_entity(entity_text):\n",
    "            continue  # Skip invalid dates\n",
    "\n",
    "        if (entity_label in desired_types) and (count[entity_label] < 10):\n",
    "            # Add question templates for each entity type\n",
    "            if entity_label == \"PERSON\":\n",
    "                questions.add(f\"Who is {entity_text}?\")\n",
    "                questions.add(f\"Can you tell me more about {entity_text}'s role?\")\n",
    "                count[\"PERSON\"] += 2\n",
    "            elif entity_label == \"GPE\":\n",
    "                questions.add(f\"What is {entity_text}?\")\n",
    "                questions.add(f\"Where is {entity_text} located?\")\n",
    "                count[\"GPE\"] += 2\n",
    "            elif entity_label == \"ORG\":\n",
    "                questions.add(f\"What is {entity_text}?\")\n",
    "                questions.add(f\"What does {entity_text} do?\")\n",
    "                count[\"ORG\"] += 2\n",
    "            elif entity_label == \"LOC\":\n",
    "                questions.add(f\"Where is {entity_text}?\")\n",
    "                questions.add(f\"What are some interesting things to see in {entity_text}?\")\n",
    "                count[\"LOC\"] += 2\n",
    "            elif entity_label == \"EVENT\":\n",
    "                questions.add(f\"What is {entity_text}?\")\n",
    "                questions.add(f\"Why is {entity_text} important?\")\n",
    "                count[\"EVENT\"] += 2\n",
    "            elif entity_label == \"WORK_OF_ART\":\n",
    "                questions.add(f\"Who created {entity_text}?\")\n",
    "                questions.add(f\"What is the significance of {entity_text}?\")\n",
    "                count[\"WORK_OF_ART\"] += 2\n",
    "            elif entity_label == \"PRODUCT\":\n",
    "                questions.add(f\"What is {entity_text}?\")\n",
    "                questions.add(f\"What is the use of {entity_text}?\")\n",
    "                count[\"PRODUCT\"] += 2\n",
    "            elif entity_label == \"LANGUAGE\":\n",
    "                questions.add(f\"What language is {entity_text}?\")\n",
    "                questions.add(f\"Where is {entity_text} spoken?\")\n",
    "                count[\"LANGUAGE\"] += 2\n",
    "            elif entity_label == \"LAW\":\n",
    "                questions.add(f\"What is {entity_text}?\")\n",
    "                questions.add(f\"What does {entity_text} regulate?\")\n",
    "                count[\"LAW\"] += 2\n",
    "            elif entity_label == \"FAC\":\n",
    "                questions.add(f\"What is {entity_text}?\")\n",
    "                questions.add(f\"Where is {entity_text} located?\")\n",
    "                count[\"FAC\"] += 2\n",
    "\n",
    "    # Contingency for missing entity types\n",
    "    for entity_type in desired_types:\n",
    "        if entity_type not in found_entity_types:\n",
    "            print(f\"No {entity_types.get(entity_type, entity_type)} found in the document. Moving on...\")\n",
    "\n",
    "    return list(questions)\n",
    "\n",
    "# Main Function\n",
    "if __name__ == \"__main__\":\n",
    "    # Allow user to input the PDF path once\n",
    "    pdf_path = input(\"Enter the path to the PDF file: \")\n",
    "\n",
    "    # Check if the PDF file exists\n",
    "    if not os.path.exists(pdf_path):\n",
    "        print(f\"PDF file {pdf_path} does not exist.\")\n",
    "    else:\n",
    "        # Extract and clean text from the PDF\n",
    "        text = extract_text_from_pdf(pdf_path)\n",
    "        cleaned_text = clean_text(text)\n",
    "        \n",
    "        while True:\n",
    "            entities = perform_ner(cleaned_text)\n",
    "            if entities:\n",
    "                questions = generate_questions(entities)\n",
    "                if questions:\n",
    "                    for question in questions:\n",
    "                        print(question)\n",
    "                else:\n",
    "                    print(\"No questions generated. Try different question types.\")\n",
    "            else:\n",
    "                print(\"No entities found in the document.\")\n",
    "\n",
    "            # Option for the user to continue or exit\n",
    "            user_input = input(\"\\nDo you want to generate more questions (type 'yes' to continue or 'exit' to quit): \").strip().lower()\n",
    "            if user_input == 'exit':\n",
    "                print(\"Exiting...\")\n",
    "                break\n"
   ]
  },
  {
   "cell_type": "code",
   "execution_count": null,
   "id": "af60c7f7-8c9a-4826-a767-94e3e8cde6fd",
   "metadata": {},
   "outputs": [],
   "source": []
  }
 ],
 "metadata": {
  "kernelspec": {
   "display_name": "Python 3 (ipykernel)",
   "language": "python",
   "name": "python3"
  },
  "language_info": {
   "codemirror_mode": {
    "name": "ipython",
    "version": 3
   },
   "file_extension": ".py",
   "mimetype": "text/x-python",
   "name": "python",
   "nbconvert_exporter": "python",
   "pygments_lexer": "ipython3",
   "version": "3.11.5"
  }
 },
 "nbformat": 4,
 "nbformat_minor": 5
}
